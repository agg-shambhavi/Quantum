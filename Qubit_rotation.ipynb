{
  "nbformat": 4,
  "nbformat_minor": 0,
  "metadata": {
    "colab": {
      "name": "Qubit rotation.ipynb",
      "provenance": [],
      "authorship_tag": "ABX9TyP5jcXRKsaP82qdRE2P+2IY",
      "include_colab_link": true
    },
    "kernelspec": {
      "name": "python3",
      "display_name": "Python 3"
    },
    "language_info": {
      "name": "python"
    },
    "accelerator": "GPU"
  },
  "cells": [
    {
      "cell_type": "markdown",
      "metadata": {
        "id": "view-in-github",
        "colab_type": "text"
      },
      "source": [
        "<a href=\"https://colab.research.google.com/github/agg-shambhavi/Quantum/blob/main/Qubit_rotation.ipynb\" target=\"_parent\"><img src=\"https://colab.research.google.com/assets/colab-badge.svg\" alt=\"Open In Colab\"/></a>"
      ]
    },
    {
      "cell_type": "markdown",
      "source": [
        "Optimize two rotation gates in order to flip a single qubit from state \n",
        "|\n",
        "0\n",
        "⟩\n",
        " to state \n",
        "|\n",
        "1\n",
        "⟩"
      ],
      "metadata": {
        "id": "yvsWIUWr-sPA"
      }
    },
    {
      "cell_type": "code",
      "execution_count": 1,
      "metadata": {
        "colab": {
          "base_uri": "https://localhost:8080/"
        },
        "id": "NNZDCEh8-dCU",
        "outputId": "c447f7e6-3d4f-4dbe-c458-84865c6c852f"
      },
      "outputs": [
        {
          "output_type": "stream",
          "name": "stdout",
          "text": [
            "Collecting pennylane\n",
            "  Downloading PennyLane-0.20.0-py3-none-any.whl (756 kB)\n",
            "\u001b[K     |████████████████████████████████| 756 kB 5.4 MB/s \n",
            "\u001b[?25hRequirement already satisfied: numpy in /usr/local/lib/python3.7/dist-packages (from pennylane) (1.19.5)\n",
            "Collecting semantic-version==2.6\n",
            "  Downloading semantic_version-2.6.0-py3-none-any.whl (14 kB)\n",
            "Collecting pennylane-lightning>=0.18\n",
            "  Downloading PennyLane_Lightning-0.20.2-cp37-cp37m-manylinux2014_x86_64.whl (305 kB)\n",
            "\u001b[K     |████████████████████████████████| 305 kB 47.2 MB/s \n",
            "\u001b[?25hRequirement already satisfied: toml in /usr/local/lib/python3.7/dist-packages (from pennylane) (0.10.2)\n",
            "Requirement already satisfied: cachetools in /usr/local/lib/python3.7/dist-packages (from pennylane) (4.2.4)\n",
            "Requirement already satisfied: scipy in /usr/local/lib/python3.7/dist-packages (from pennylane) (1.4.1)\n",
            "Requirement already satisfied: networkx in /usr/local/lib/python3.7/dist-packages (from pennylane) (2.6.3)\n",
            "Requirement already satisfied: autograd in /usr/local/lib/python3.7/dist-packages (from pennylane) (1.3)\n",
            "Collecting autoray\n",
            "  Downloading autoray-0.2.5-py3-none-any.whl (16 kB)\n",
            "Requirement already satisfied: appdirs in /usr/local/lib/python3.7/dist-packages (from pennylane) (1.4.4)\n",
            "Collecting ninja\n",
            "  Downloading ninja-1.10.2.3-py2.py3-none-manylinux_2_5_x86_64.manylinux1_x86_64.whl (108 kB)\n",
            "\u001b[K     |████████████████████████████████| 108 kB 47.8 MB/s \n",
            "\u001b[?25hRequirement already satisfied: future>=0.15.2 in /usr/local/lib/python3.7/dist-packages (from autograd->pennylane) (0.16.0)\n",
            "Installing collected packages: ninja, semantic-version, pennylane-lightning, autoray, pennylane\n",
            "Successfully installed autoray-0.2.5 ninja-1.10.2.3 pennylane-0.20.0 pennylane-lightning-0.20.2 semantic-version-2.6.0\n"
          ]
        }
      ],
      "source": [
        "pip install pennylane --upgrade"
      ]
    },
    {
      "cell_type": "code",
      "source": [
        "import pennylane as qml\n",
        "from pennylane import numpy as np"
      ],
      "metadata": {
        "id": "FTkeHUfOa8sx"
      },
      "execution_count": 2,
      "outputs": []
    },
    {
      "cell_type": "code",
      "source": [
        "dev1 = qml.device(\"default.qubit\", wires = 1)"
      ],
      "metadata": {
        "id": "3GAy5BTebJ1L"
      },
      "execution_count": 3,
      "outputs": []
    },
    {
      "cell_type": "code",
      "source": [
        "@qml.qnode(dev1)\n",
        "def circuit(params):\n",
        "  qml.RX(params[0], wires=0)\n",
        "  qml.RY(params[1], wires=0)\n",
        "  return qml.expval(qml.PauliZ(0))"
      ],
      "metadata": {
        "id": "qUWN4rQxcxmw"
      },
      "execution_count": 4,
      "outputs": []
    },
    {
      "cell_type": "code",
      "source": [
        "print(circuit([0.54, 0.12]))"
      ],
      "metadata": {
        "colab": {
          "base_uri": "https://localhost:8080/"
        },
        "id": "pVn8IfLd7mtU",
        "outputId": "0cd81f79-2f75-47fd-8c3d-a1706719329d"
      },
      "execution_count": 5,
      "outputs": [
        {
          "output_type": "stream",
          "name": "stdout",
          "text": [
            "0.8515405859048366\n"
          ]
        }
      ]
    },
    {
      "cell_type": "markdown",
      "source": [
        "Calculate Quantum Gradients"
      ],
      "metadata": {
        "id": "wKxU-L9roq3s"
      }
    },
    {
      "cell_type": "code",
      "source": [
        "dcircuit = qml.grad(circuit, argnum=0)"
      ],
      "metadata": {
        "id": "mDmBjXKK7snG"
      },
      "execution_count": 6,
      "outputs": []
    },
    {
      "cell_type": "code",
      "source": [
        "print(dcircuit([0.54, 0.12]))"
      ],
      "metadata": {
        "colab": {
          "base_uri": "https://localhost:8080/"
        },
        "id": "aXXpG0YRp_aP",
        "outputId": "70b709f3-d029-4369-ea0f-fea0cf63c540"
      },
      "execution_count": 7,
      "outputs": [
        {
          "output_type": "stream",
          "name": "stdout",
          "text": [
            "[array(-0.51043865), array(-0.1026782)]\n"
          ]
        }
      ]
    },
    {
      "cell_type": "markdown",
      "source": [
        "Optimization"
      ],
      "metadata": {
        "id": "EmRLJOUtrPV_"
      }
    },
    {
      "cell_type": "code",
      "source": [
        "def cost(x):\n",
        "  return circuit(x)"
      ],
      "metadata": {
        "id": "A2u2w16pqEhU"
      },
      "execution_count": 8,
      "outputs": []
    },
    {
      "cell_type": "code",
      "source": [
        "init_params = np.array([0.011, 0.012], requires_grad=True)\n",
        "print(cost(init_params))"
      ],
      "metadata": {
        "colab": {
          "base_uri": "https://localhost:8080/"
        },
        "id": "gCGvVdPBr5yf",
        "outputId": "b7697bf8-8429-4b9e-a7f0-ac0c0bc19159"
      },
      "execution_count": 9,
      "outputs": [
        {
          "output_type": "stream",
          "name": "stdout",
          "text": [
            "0.9998675058299389\n"
          ]
        }
      ]
    },
    {
      "cell_type": "code",
      "source": [
        "# initialise the optimiser\n",
        "opt = qml.GradientDescentOptimizer(stepsize=0.4)\n",
        "\n",
        "# set the number of steps\n",
        "steps = 100\n",
        "\n",
        "# set the initial parameter values\n",
        "params = init_params\n",
        "\n",
        "# loop\n",
        "for i in range(steps):\n",
        "  # update the circuit parameters\n",
        "  params = opt.step(cost, params)\n",
        "\n",
        "  if (i + 1) % 5 == 0:\n",
        "    print(\"Cost after step {:5d}: {:.7f}\".format(i + 1, cost(params)))\n",
        "\n",
        "print(\"Optimized rotation angles: {}\".format(params))"
      ],
      "metadata": {
        "colab": {
          "base_uri": "https://localhost:8080/"
        },
        "id": "aCKSjrP_sQHq",
        "outputId": "54c19897-79e4-4b9e-e308-5dabf1bc6b3c"
      },
      "execution_count": 11,
      "outputs": [
        {
          "output_type": "stream",
          "name": "stdout",
          "text": [
            "Cost after step     5: 0.9961778\n",
            "Cost after step    10: 0.8974944\n",
            "Cost after step    15: 0.1440490\n",
            "Cost after step    20: -0.1536720\n",
            "Cost after step    25: -0.9152496\n",
            "Cost after step    30: -0.9994046\n",
            "Cost after step    35: -0.9999964\n",
            "Cost after step    40: -1.0000000\n",
            "Cost after step    45: -1.0000000\n",
            "Cost after step    50: -1.0000000\n",
            "Cost after step    55: -1.0000000\n",
            "Cost after step    60: -1.0000000\n",
            "Cost after step    65: -1.0000000\n",
            "Cost after step    70: -1.0000000\n",
            "Cost after step    75: -1.0000000\n",
            "Cost after step    80: -1.0000000\n",
            "Cost after step    85: -1.0000000\n",
            "Cost after step    90: -1.0000000\n",
            "Cost after step    95: -1.0000000\n",
            "Cost after step   100: -1.0000000\n",
            "Optimized rotation angles: [7.15266381e-18 3.14159265e+00]\n"
          ]
        }
      ]
    }
  ]
}
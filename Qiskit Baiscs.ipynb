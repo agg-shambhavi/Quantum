{
  "cells": [
    {
      "cell_type": "code",
      "execution_count": 1,
      "metadata": {
        "id": "Oq5ab4e1pSWA"
      },
      "outputs": [],
      "source": [
        "from qiskit import ClassicalRegister, QuantumRegister, QuantumCircuit, execute, Aer\n",
        "#import Our_Qiskit_Functions as oq\n",
        "import numpy as np\n",
        "import math as m\n",
        "S_simulator = Aer.backends(name='statevector_simulator')[0]\n",
        "M_simulator = Aer.backends(name=\"qasm_simulator\")[0]"
      ]
    },
    {
      "cell_type": "code",
      "execution_count": 2,
      "metadata": {
        "id": "nKgFIvI8Sxbp"
      },
      "outputs": [],
      "source": [
        "from qiskit.tools.visualization import circuit_drawer"
      ]
    },
    {
      "cell_type": "markdown",
      "metadata": {
        "id": "LLFxnaxIRLkD"
      },
      "source": [
        "### 1-qubit System"
      ]
    },
    {
      "cell_type": "code",
      "execution_count": 3,
      "metadata": {
        "colab": {
          "base_uri": "https://localhost:8080/"
        },
        "id": "qQo-5WCyqf8U",
        "outputId": "c4c4e79d-d2bd-4595-90b0-928650bbf84c"
      },
      "outputs": [
        {
          "name": "stdout",
          "output_type": "stream",
          "text": [
            "Statevector([1.+0.j, 0.+0.j],\n",
            "            dims=(2,))\n"
          ]
        }
      ],
      "source": [
        "q = QuantumRegister(1)\n",
        "hello_qubit = QuantumCircuit(q)\n",
        "\n",
        "hello_qubit.id(q[0])\n",
        "\n",
        "job = execute(hello_qubit, S_simulator)\n",
        "result = job.result()\n",
        "\n",
        "result.get_statevector()"
      ]
    },
    {
      "cell_type": "markdown",
      "metadata": {
        "id": "RqwUNS3mRKkk"
      },
      "source": [
        "### 3-qubit System\n",
        "\n",
        "Making |000> State"
      ]
    },
    {
      "cell_type": "code",
      "execution_count": 4,
      "metadata": {
        "colab": {
          "base_uri": "https://localhost:8080/"
        },
        "id": "KiiuXVlGN1JT",
        "outputId": "263ee81d-e168-4191-9196-dce5ad905026"
      },
      "outputs": [
        {
          "name": "stdout",
          "output_type": "stream",
          "text": [
            "Statevector([1.+0.j, 0.+0.j, 0.+0.j, 0.+0.j, 0.+0.j, 0.+0.j, 0.+0.j,\n",
            "             0.+0.j],\n",
            "            dims=(2, 2, 2))\n"
          ]
        }
      ],
      "source": [
        "q = QuantumRegister(3)\n",
        "three_qubit = QuantumCircuit(q)\n",
        "\n",
        "three_qubit.id(q[0])\n",
        "three_qubit.id(q[1])\n",
        "three_qubit.id(q[2])\n",
        "\n",
        "job = execute(three_qubit, S_simulator)\n",
        "result = job.result()\n",
        "result.get_statevector()"
      ]
    },
    {
      "cell_type": "markdown",
      "metadata": {
        "id": "QdUpVksBUjBw"
      },
      "source": [
        "Making |100> State"
      ]
    },
    {
      "cell_type": "code",
      "execution_count": 5,
      "metadata": {
        "colab": {
          "base_uri": "https://localhost:8080/"
        },
        "id": "7GQ8X53gTRCc",
        "outputId": "67fb5889-d4b0-4c1c-8075-33eff03c94e4"
      },
      "outputs": [
        {
          "name": "stdout",
          "output_type": "stream",
          "text": [
            "Statevector([0.+0.j, 1.+0.j, 0.+0.j, 0.+0.j, 0.+0.j, 0.+0.j, 0.+0.j,\n",
            "             0.+0.j],\n",
            "            dims=(2, 2, 2))\n"
          ]
        }
      ],
      "source": [
        "q = QuantumRegister(3)\n",
        "three_qubit = QuantumCircuit(q)\n",
        "\n",
        "three_qubit.x(q[0])\n",
        "three_qubit.id(q[1])\n",
        "three_qubit.id(q[2])\n",
        "\n",
        "job = execute(three_qubit, S_simulator)\n",
        "result = job.result()\n",
        "result.get_statevector()"
      ]
    },
    {
      "cell_type": "markdown",
      "metadata": {
        "id": "GhJu9HskV6R6"
      },
      "source": [
        "\n",
        "\n",
        "## H Gate - 1 qubit in superposition state"
      ]
    },
    {
      "cell_type": "code",
      "execution_count": 6,
      "metadata": {
        "colab": {
          "base_uri": "https://localhost:8080/"
        },
        "id": "X5hA7iGXU1Vu",
        "outputId": "4bb6673e-4c5b-4e51-e8ca-13424329e7cb"
      },
      "outputs": [
        {
          "name": "stdout",
          "output_type": "stream",
          "text": [
            "Statevector([0.70710678+0.j, 0.70710678+0.j],\n",
            "            dims=(2,))\n"
          ]
        }
      ],
      "source": [
        "q = QuantumRegister(1)\n",
        "\n",
        "H_circuit = QuantumCircuit(q)\n",
        "\n",
        "H_circuit.h(q[0])\n",
        "\n",
        "job = execute(H_circuit, S_simulator)\n",
        "result = job.result()\n",
        "result.get_statevector()"
      ]
    },
    {
      "cell_type": "markdown",
      "metadata": {
        "id": "zY6x7MvhZh0e"
      },
      "source": [
        "## 2-qubits in superposition"
      ]
    },
    {
      "cell_type": "code",
      "execution_count": 7,
      "metadata": {
        "colab": {
          "base_uri": "https://localhost:8080/"
        },
        "id": "683yjoq1Y61c",
        "outputId": "5088cac5-7456-481f-ae9d-23be0cd9582c"
      },
      "outputs": [
        {
          "name": "stdout",
          "output_type": "stream",
          "text": [
            "Statevector([0.5+0.j, 0.5+0.j, 0.5+0.j, 0.5+0.j],\n",
            "            dims=(2, 2))\n"
          ]
        }
      ],
      "source": [
        "q = QuantumRegister(2)\n",
        "H_circuit = QuantumCircuit(q)\n",
        "\n",
        "H_circuit.h(q[0])\n",
        "H_circuit.h(q[1])\n",
        "\n",
        "job = execute(H_circuit, S_simulator)\n",
        "result = job.result()\n",
        "result.get_statevector()"
      ]
    },
    {
      "cell_type": "markdown",
      "metadata": {
        "id": "OzZfIBcLakKz"
      },
      "source": [
        "### Making Measurement"
      ]
    },
    {
      "cell_type": "code",
      "execution_count": 8,
      "metadata": {
        "colab": {
          "base_uri": "https://localhost:8080/"
        },
        "id": "1IrJZHtDaIWv",
        "outputId": "e1f102d0-69d7-4a6a-cc0d-e92fd9a83300"
      },
      "outputs": [
        {
          "data": {
            "text/plain": [
              "{'1': 528, '0': 496}"
            ]
          },
          "execution_count": 8,
          "metadata": {},
          "output_type": "execute_result"
        }
      ],
      "source": [
        "q = QuantumRegister(1)\n",
        "c = ClassicalRegister(1)\n",
        "qc = QuantumCircuit(q,c)\n",
        "\n",
        "qc.h(q[0])\n",
        "qc.measure(q,c)\n",
        "\n",
        "job = execute(qc, M_simulator)\n",
        "result = job.result()\n",
        "result.get_counts(qc)"
      ]
    },
    {
      "cell_type": "markdown",
      "metadata": {
        "id": "pHyOrJMnNqmw"
      },
      "source": [
        "### Visualizing Circuits"
      ]
    },
    {
      "cell_type": "code",
      "execution_count": 9,
      "metadata": {
        "colab": {
          "base_uri": "https://localhost:8080/",
          "height": 125
        },
        "id": "GkZu-2UsiBEn",
        "outputId": "6f2a0ae5-910c-424d-9a1c-1386eb4ab0c5"
      },
      "outputs": [
        {
          "data": {
            "text/html": [
              "<pre style=\"word-wrap: normal;white-space: pre;background: #fff0;line-height: 1.1;font-family: &quot;Courier New&quot;,Courier,monospace\">     ┌───┐┌─┐   \n",
              "q_0: ┤ H ├┤M├───\n",
              "     ├───┤└╥┘┌─┐\n",
              "q_1: ┤ H ├─╫─┤M├\n",
              "     └───┘ ║ └╥┘\n",
              "c: 2/══════╩══╩═\n",
              "           0  1 </pre>"
            ],
            "text/plain": [
              "     ┌───┐┌─┐   \n",
              "q_0: ┤ H ├┤M├───\n",
              "     ├───┤└╥┘┌─┐\n",
              "q_1: ┤ H ├─╫─┤M├\n",
              "     └───┘ ║ └╥┘\n",
              "c: 2/══════╩══╩═\n",
              "           0  1 "
            ]
          },
          "execution_count": 9,
          "metadata": {},
          "output_type": "execute_result"
        }
      ],
      "source": [
        "q = QuantumRegister(2, name='q')\n",
        "c = ClassicalRegister(2, name='c')\n",
        "qc = QuantumCircuit(q,c, name='qc')\n",
        "\n",
        "qc.h(q[0])\n",
        "qc.h(q[1])\n",
        "qc.measure(q,c)\n",
        "\n",
        "qc.draw()"
      ]
    },
    {
      "cell_type": "markdown",
      "metadata": {
        "id": "6zLQmD30UA64"
      },
      "source": [
        "# Single Qubit Gates\n",
        "\n",
        "## I Gate \n",
        "Qubit remains unchanged"
      ]
    },
    {
      "cell_type": "code",
      "execution_count": 10,
      "metadata": {
        "colab": {
          "base_uri": "https://localhost:8080/",
          "height": 63
        },
        "id": "Z4OJosjSS-78",
        "outputId": "006bd714-d3cc-47be-d734-f806457e0b8b"
      },
      "outputs": [
        {
          "data": {
            "text/html": [
              "<pre style=\"word-wrap: normal;white-space: pre;background: #fff0;line-height: 1.1;font-family: &quot;Courier New&quot;,Courier,monospace\">   ┌───┐┌───┐\n",
              "q: ┤ I ├┤ I ├\n",
              "   └───┘└───┘</pre>"
            ],
            "text/plain": [
              "   ┌───┐┌───┐\n",
              "q: ┤ I ├┤ I ├\n",
              "   └───┘└───┘"
            ]
          },
          "execution_count": 10,
          "metadata": {},
          "output_type": "execute_result"
        }
      ],
      "source": [
        "q = QuantumRegister(1, name='q')\n",
        "I_qc = QuantumCircuit(q, name='qc')\n",
        "\n",
        "I_qc.id(q[0])\n",
        "I_qc.id(q[0])\n",
        "\n",
        "circuit_drawer(I_qc)"
      ]
    },
    {
      "cell_type": "code",
      "execution_count": 11,
      "metadata": {
        "colab": {
          "base_uri": "https://localhost:8080/"
        },
        "id": "BAMj503MVGqH",
        "outputId": "b976b072-ae2d-4374-b05d-9cde1dc2841e"
      },
      "outputs": [
        {
          "name": "stdout",
          "output_type": "stream",
          "text": [
            "Statevector([1.+0.j, 0.+0.j],\n",
            "            dims=(2,))\n"
          ]
        }
      ],
      "source": [
        "job = execute(I_qc, S_simulator)\n",
        "result = job.result()\n",
        "result.get_statevector()"
      ]
    },
    {
      "cell_type": "code",
      "execution_count": 12,
      "metadata": {
        "id": "9jDkQOKmW9z6"
      },
      "outputs": [],
      "source": [
        "def get(qc):\n",
        "  job = execute(qc, S_simulator)\n",
        "  result = job.result()\n",
        "  print(result.get_statevector())"
      ]
    },
    {
      "cell_type": "markdown",
      "metadata": {
        "id": "GRn0cdm2WTRK"
      },
      "source": [
        "## H gate"
      ]
    },
    {
      "cell_type": "code",
      "execution_count": 13,
      "metadata": {
        "colab": {
          "base_uri": "https://localhost:8080/"
        },
        "id": "tEAKxYzAVUAj",
        "outputId": "bb6bf53c-2463-43c7-fa68-9b8d03b7ce59"
      },
      "outputs": [
        {
          "name": "stdout",
          "output_type": "stream",
          "text": [
            "Statevector([1.+0.j, 0.+0.j],\n",
            "            dims=(2,))\n"
          ]
        }
      ],
      "source": [
        "q = QuantumRegister(1, name='q')\n",
        "H_qc = QuantumCircuit(q, name='qc')\n",
        "\n",
        "H_qc.id(q[0])\n",
        "get(H_qc)"
      ]
    },
    {
      "cell_type": "code",
      "execution_count": 14,
      "metadata": {
        "colab": {
          "base_uri": "https://localhost:8080/"
        },
        "id": "rghFfjqvXQh_",
        "outputId": "88daeec9-3bee-4459-b460-f7f686a84c2c"
      },
      "outputs": [
        {
          "name": "stdout",
          "output_type": "stream",
          "text": [
            "Statevector([0.70710678+0.j, 0.70710678+0.j],\n",
            "            dims=(2,))\n"
          ]
        }
      ],
      "source": [
        "H_qc.h(q[0])\n",
        "get(H_qc)"
      ]
    },
    {
      "cell_type": "code",
      "execution_count": 15,
      "metadata": {
        "colab": {
          "base_uri": "https://localhost:8080/",
          "height": 63
        },
        "id": "m2yKZYNFXxiE",
        "outputId": "72b70958-1d6a-4c91-8310-76e793b2565d"
      },
      "outputs": [
        {
          "data": {
            "text/html": [
              "<pre style=\"word-wrap: normal;white-space: pre;background: #fff0;line-height: 1.1;font-family: &quot;Courier New&quot;,Courier,monospace\">   ┌───┐┌───┐\n",
              "q: ┤ I ├┤ H ├\n",
              "   └───┘└───┘</pre>"
            ],
            "text/plain": [
              "   ┌───┐┌───┐\n",
              "q: ┤ I ├┤ H ├\n",
              "   └───┘└───┘"
            ]
          },
          "execution_count": 15,
          "metadata": {},
          "output_type": "execute_result"
        }
      ],
      "source": [
        "circuit_drawer(H_qc)"
      ]
    },
    {
      "cell_type": "markdown",
      "metadata": {
        "id": "XHWXm7NPYA-c"
      },
      "source": [
        "## Pauli Operators\n",
        "\n",
        "## X \n",
        "Flip the qubit"
      ]
    },
    {
      "cell_type": "code",
      "execution_count": 16,
      "metadata": {
        "id": "3mOcyUC9X_mf"
      },
      "outputs": [],
      "source": [
        "q = QuantumRegister(1, name='q')\n",
        "X_qc = QuantumCircuit(q, name='qc')\n",
        "\n",
        "# X_qc.id(q[0])\n",
        "# get(X_qc)"
      ]
    },
    {
      "cell_type": "code",
      "execution_count": 17,
      "metadata": {
        "colab": {
          "base_uri": "https://localhost:8080/"
        },
        "id": "DolSU9ieawqm",
        "outputId": "42b5b1c9-bbff-4a92-8085-acb5c856b46a"
      },
      "outputs": [
        {
          "name": "stdout",
          "output_type": "stream",
          "text": [
            "Statevector([0.+0.j, 1.+0.j],\n",
            "            dims=(2,))\n"
          ]
        }
      ],
      "source": [
        "X_qc.x(q[0])\n",
        "get(X_qc)"
      ]
    },
    {
      "cell_type": "code",
      "execution_count": 18,
      "metadata": {
        "colab": {
          "base_uri": "https://localhost:8080/",
          "height": 63
        },
        "id": "TQ7mySHrLtag",
        "outputId": "ee88261d-57c8-412d-a501-f4aa52932c7d"
      },
      "outputs": [
        {
          "data": {
            "text/html": [
              "<pre style=\"word-wrap: normal;white-space: pre;background: #fff0;line-height: 1.1;font-family: &quot;Courier New&quot;,Courier,monospace\">   ┌───┐\n",
              "q: ┤ X ├\n",
              "   └───┘</pre>"
            ],
            "text/plain": [
              "   ┌───┐\n",
              "q: ┤ X ├\n",
              "   └───┘"
            ]
          },
          "execution_count": 18,
          "metadata": {},
          "output_type": "execute_result"
        }
      ],
      "source": [
        "circuit_drawer(X_qc)"
      ]
    },
    {
      "cell_type": "markdown",
      "metadata": {
        "id": "QG4HUdyeL6Uo"
      },
      "source": [
        "## Z\n",
        "Flip the phase"
      ]
    },
    {
      "cell_type": "code",
      "execution_count": 19,
      "metadata": {
        "colab": {
          "base_uri": "https://localhost:8080/"
        },
        "id": "nNEh_hQsL5Dj",
        "outputId": "c2ca455b-779e-4849-f9ab-b887e92c8150"
      },
      "outputs": [
        {
          "name": "stdout",
          "output_type": "stream",
          "text": [
            "Statevector([0.70710678+0.j, 0.70710678+0.j],\n",
            "            dims=(2,))\n"
          ]
        }
      ],
      "source": [
        "q = QuantumRegister(1, name='q')\n",
        "Z_qc = QuantumCircuit(q, name='qc')\n",
        "\n",
        "Z_qc.h(q[0])\n",
        "get(Z_qc)"
      ]
    },
    {
      "cell_type": "code",
      "execution_count": 20,
      "metadata": {
        "colab": {
          "base_uri": "https://localhost:8080/"
        },
        "id": "WSB-v98qMUKI",
        "outputId": "04909b28-dbb0-41b7-9e8e-d8ee903193d8"
      },
      "outputs": [
        {
          "name": "stdout",
          "output_type": "stream",
          "text": [
            "Statevector([ 0.70710678+0.00000000e+00j, -0.70710678-8.65956056e-17j],\n",
            "            dims=(2,))\n"
          ]
        }
      ],
      "source": [
        "Z_qc.z(q[0])\n",
        "get(Z_qc)"
      ]
    },
    {
      "cell_type": "code",
      "execution_count": 21,
      "metadata": {
        "colab": {
          "base_uri": "https://localhost:8080/",
          "height": 63
        },
        "id": "mJ1UaXFvMeqC",
        "outputId": "2326deea-50b2-4eff-969c-b4e4f89105b5"
      },
      "outputs": [
        {
          "data": {
            "text/html": [
              "<pre style=\"word-wrap: normal;white-space: pre;background: #fff0;line-height: 1.1;font-family: &quot;Courier New&quot;,Courier,monospace\">   ┌───┐┌───┐\n",
              "q: ┤ H ├┤ Z ├\n",
              "   └───┘└───┘</pre>"
            ],
            "text/plain": [
              "   ┌───┐┌───┐\n",
              "q: ┤ H ├┤ Z ├\n",
              "   └───┘└───┘"
            ]
          },
          "execution_count": 21,
          "metadata": {},
          "output_type": "execute_result"
        }
      ],
      "source": [
        "circuit_drawer(Z_qc)"
      ]
    },
    {
      "cell_type": "markdown",
      "metadata": {
        "id": "hB6TGmHLNB9e"
      },
      "source": [
        "## Y\n",
        "Bit and Phase Flip"
      ]
    },
    {
      "cell_type": "code",
      "execution_count": 22,
      "metadata": {
        "id": "4JS3pN9kMuJm"
      },
      "outputs": [],
      "source": [
        "q = QuantumRegister(1, name='q')\n",
        "Y_qc = QuantumCircuit(q, name='qc')\n",
        "\n",
        "# Y_qc.id(q[0])\n",
        "# get(Y_qc)"
      ]
    },
    {
      "cell_type": "code",
      "execution_count": 23,
      "metadata": {
        "colab": {
          "base_uri": "https://localhost:8080/"
        },
        "id": "xvhth_lFOsUE",
        "outputId": "161398ef-7d72-40be-b5a9-bd037ccfa031"
      },
      "outputs": [
        {
          "name": "stdout",
          "output_type": "stream",
          "text": [
            "Statevector([0.-0.j, 0.+1.j],\n",
            "            dims=(2,))\n"
          ]
        }
      ],
      "source": [
        "Y_qc.y(q[0])\n",
        "get(Y_qc)"
      ]
    },
    {
      "cell_type": "code",
      "execution_count": 24,
      "metadata": {
        "colab": {
          "base_uri": "https://localhost:8080/",
          "height": 63
        },
        "id": "6PKYYV_dO1Z6",
        "outputId": "5871a2b0-1582-4de1-da45-00a94637ba13"
      },
      "outputs": [
        {
          "data": {
            "text/html": [
              "<pre style=\"word-wrap: normal;white-space: pre;background: #fff0;line-height: 1.1;font-family: &quot;Courier New&quot;,Courier,monospace\">   ┌───┐\n",
              "q: ┤ Y ├\n",
              "   └───┘</pre>"
            ],
            "text/plain": [
              "   ┌───┐\n",
              "q: ┤ Y ├\n",
              "   └───┘"
            ]
          },
          "execution_count": 24,
          "metadata": {},
          "output_type": "execute_result"
        }
      ],
      "source": [
        "circuit_drawer(Y_qc)"
      ]
    },
    {
      "cell_type": "markdown",
      "metadata": {
        "id": "GgZPZoyaPr6Q"
      },
      "source": [
        "# U1 gate\n",
        "It leaves a qubit’s |0> amplitude unchanged, while multiplying by a phase eiφ to a qubit’s |1> amplitude. "
      ]
    },
    {
      "cell_type": "code",
      "execution_count": 25,
      "metadata": {
        "colab": {
          "base_uri": "https://localhost:8080/"
        },
        "id": "OUuFLPfwO87L",
        "outputId": "0818deb7-7daa-44cf-9857-ee4fc5a39ed0"
      },
      "outputs": [
        {
          "name": "stdout",
          "output_type": "stream",
          "text": [
            "Statevector([0.70710678+0.j, 0.70710678+0.j],\n",
            "            dims=(2,))\n"
          ]
        }
      ],
      "source": [
        "q = QuantumRegister(1, name='q')\n",
        "u1_qc = QuantumCircuit(q, name='qc')\n",
        "\n",
        "u1_qc.h(q[0])\n",
        "get(u1_qc)"
      ]
    },
    {
      "cell_type": "code",
      "execution_count": 26,
      "metadata": {
        "colab": {
          "base_uri": "https://localhost:8080/"
        },
        "id": "Z-Wh66iyQPvq",
        "outputId": "9767d9ad-7e73-4421-e6d5-7d977088a121"
      },
      "outputs": [
        {
          "name": "stdout",
          "output_type": "stream",
          "text": [
            "Statevector([0.70710678+0.j , 0.5       +0.5j],\n",
            "            dims=(2,))\n"
          ]
        },
        {
          "name": "stderr",
          "output_type": "stream",
          "text": [
            "C:\\Users\\DELL\\AppData\\Local\\Temp\\ipykernel_1528\\1765434366.py:1: DeprecationWarning: The QuantumCircuit.u1 method is deprecated as of 0.16.0. It will be removed no earlier than 3 months after the release date. You should use the QuantumCircuit.p method instead, which acts identically.\n",
            "  u1_qc.u1(m.pi/4, q[0])\n"
          ]
        }
      ],
      "source": [
        "u1_qc.u1(m.pi/4, q[0])\n",
        "get(u1_qc)"
      ]
    },
    {
      "cell_type": "code",
      "execution_count": 27,
      "metadata": {
        "colab": {
          "base_uri": "https://localhost:8080/",
          "height": 63
        },
        "id": "UJ4ZEZhyQY5S",
        "outputId": "3deb6014-dd32-4614-e296-453714ddccc4"
      },
      "outputs": [
        {
          "data": {
            "text/html": [
              "<pre style=\"word-wrap: normal;white-space: pre;background: #fff0;line-height: 1.1;font-family: &quot;Courier New&quot;,Courier,monospace\">   ┌───┐┌─────────┐\n",
              "q: ┤ H ├┤ U1(π/4) ├\n",
              "   └───┘└─────────┘</pre>"
            ],
            "text/plain": [
              "   ┌───┐┌─────────┐\n",
              "q: ┤ H ├┤ U1(π/4) ├\n",
              "   └───┘└─────────┘"
            ]
          },
          "execution_count": 27,
          "metadata": {},
          "output_type": "execute_result"
        }
      ],
      "source": [
        "circuit_drawer(u1_qc)"
      ]
    },
    {
      "cell_type": "markdown",
      "metadata": {
        "id": "5F-85TG1RCu4"
      },
      "source": [
        "## S\n",
        "pi/2 phase shift in U1 gate"
      ]
    },
    {
      "cell_type": "code",
      "execution_count": 28,
      "metadata": {
        "colab": {
          "base_uri": "https://localhost:8080/"
        },
        "id": "awN666RlQkPI",
        "outputId": "2b656291-243c-494c-f6ba-31f919826ab0"
      },
      "outputs": [
        {
          "name": "stdout",
          "output_type": "stream",
          "text": [
            "Statevector([0.70710678+0.j, 0.70710678+0.j],\n",
            "            dims=(2,))\n"
          ]
        }
      ],
      "source": [
        "q = QuantumRegister(1, name='q')\n",
        "S_qc = QuantumCircuit(q, name='qc')\n",
        "\n",
        "S_qc.h(q[0])\n",
        "get(S_qc)"
      ]
    },
    {
      "cell_type": "code",
      "execution_count": 29,
      "metadata": {
        "colab": {
          "base_uri": "https://localhost:8080/"
        },
        "id": "0TseqLLsRiiB",
        "outputId": "16bb39d2-3fa4-4a20-bd1f-cf94b4573f09"
      },
      "outputs": [
        {
          "name": "stdout",
          "output_type": "stream",
          "text": [
            "Statevector([7.07106781e-01+0.j        , 4.32978028e-17+0.70710678j],\n",
            "            dims=(2,))\n"
          ]
        }
      ],
      "source": [
        "S_qc.s(q[0])\n",
        "get(S_qc) ## showing wrong answer"
      ]
    },
    {
      "cell_type": "code",
      "execution_count": 30,
      "metadata": {
        "colab": {
          "base_uri": "https://localhost:8080/",
          "height": 63
        },
        "id": "VacOP7SmRuIt",
        "outputId": "174a3792-0736-4817-93b0-5b5ca01190b5"
      },
      "outputs": [
        {
          "data": {
            "text/html": [
              "<pre style=\"word-wrap: normal;white-space: pre;background: #fff0;line-height: 1.1;font-family: &quot;Courier New&quot;,Courier,monospace\">   ┌───┐┌───┐\n",
              "q: ┤ H ├┤ S ├\n",
              "   └───┘└───┘</pre>"
            ],
            "text/plain": [
              "   ┌───┐┌───┐\n",
              "q: ┤ H ├┤ S ├\n",
              "   └───┘└───┘"
            ]
          },
          "execution_count": 30,
          "metadata": {},
          "output_type": "execute_result"
        }
      ],
      "source": [
        "circuit_drawer(S_qc)"
      ]
    },
    {
      "cell_type": "markdown",
      "metadata": {
        "id": "Wn4zBqz4SKxf"
      },
      "source": [
        "## T\n",
        "pi/4 phase shift by U1 gate"
      ]
    },
    {
      "cell_type": "code",
      "execution_count": 31,
      "metadata": {
        "colab": {
          "base_uri": "https://localhost:8080/"
        },
        "id": "vzzVWeJ3SGxW",
        "outputId": "094f9a57-8252-4ccf-f739-ce1b3b0ca9d5"
      },
      "outputs": [
        {
          "name": "stdout",
          "output_type": "stream",
          "text": [
            "Statevector([0.70710678+0.j, 0.70710678+0.j],\n",
            "            dims=(2,))\n"
          ]
        }
      ],
      "source": [
        "q = QuantumRegister(1, name='q')\n",
        "T_qc = QuantumCircuit(q, name='qc')\n",
        "\n",
        "T_qc.h(q[0])\n",
        "get(T_qc)"
      ]
    },
    {
      "cell_type": "code",
      "execution_count": 32,
      "metadata": {
        "colab": {
          "base_uri": "https://localhost:8080/"
        },
        "id": "jnm3XAuUSwnt",
        "outputId": "d8f8e9a3-787a-4ea8-bb04-1bb1d10a8042"
      },
      "outputs": [
        {
          "name": "stdout",
          "output_type": "stream",
          "text": [
            "Statevector([0.70710678+0.j , 0.5       +0.5j],\n",
            "            dims=(2,))\n"
          ]
        }
      ],
      "source": [
        "T_qc.t(q[0])\n",
        "get(T_qc)"
      ]
    },
    {
      "cell_type": "code",
      "execution_count": 33,
      "metadata": {
        "colab": {
          "base_uri": "https://localhost:8080/",
          "height": 63
        },
        "id": "eNQ3da7IS2-T",
        "outputId": "ed800a99-277f-429b-df5b-3ceeb37fc236"
      },
      "outputs": [
        {
          "data": {
            "text/html": [
              "<pre style=\"word-wrap: normal;white-space: pre;background: #fff0;line-height: 1.1;font-family: &quot;Courier New&quot;,Courier,monospace\">   ┌───┐┌───┐\n",
              "q: ┤ H ├┤ T ├\n",
              "   └───┘└───┘</pre>"
            ],
            "text/plain": [
              "   ┌───┐┌───┐\n",
              "q: ┤ H ├┤ T ├\n",
              "   └───┘└───┘"
            ]
          },
          "execution_count": 33,
          "metadata": {},
          "output_type": "execute_result"
        }
      ],
      "source": [
        "circuit_drawer(T_qc)"
      ]
    },
    {
      "cell_type": "markdown",
      "metadata": {
        "id": "MqmykYexTCVc"
      },
      "source": [
        "# Rotation Gates\n",
        "## Rx(θ)"
      ]
    },
    {
      "cell_type": "code",
      "execution_count": 34,
      "metadata": {
        "colab": {
          "base_uri": "https://localhost:8080/"
        },
        "id": "sgLaSwuyS-zt",
        "outputId": "4849fb1d-cae3-491e-d3ff-3f524e0d520a"
      },
      "outputs": [],
      "source": [
        "q = QuantumRegister(1, name='q')\n",
        "Rx_qc = QuantumCircuit(q, name='qc')\n",
        "\n",
        "# Rx_qc.id(q[0])\n",
        "# get(Rx_qc)"
      ]
    },
    {
      "cell_type": "code",
      "execution_count": 35,
      "metadata": {
        "colab": {
          "base_uri": "https://localhost:8080/"
        },
        "id": "PG6x6fRxWHVG",
        "outputId": "b25a52f4-3585-4f50-dbde-e226f3f34a28"
      },
      "outputs": [
        {
          "name": "stdout",
          "output_type": "stream",
          "text": [
            "Statevector([0.70710678+0.j        , 0.        -0.70710678j],\n",
            "            dims=(2,))\n"
          ]
        }
      ],
      "source": [
        "Rx_qc.rx(m.pi/2, q[0])\n",
        "get(Rx_qc) "
      ]
    },
    {
      "cell_type": "code",
      "execution_count": 36,
      "metadata": {
        "colab": {
          "base_uri": "https://localhost:8080/",
          "height": 63
        },
        "id": "FpZlRmk2WO9w",
        "outputId": "a34032b1-5366-46a2-dc23-82872b755081"
      },
      "outputs": [
        {
          "data": {
            "text/html": [
              "<pre style=\"word-wrap: normal;white-space: pre;background: #fff0;line-height: 1.1;font-family: &quot;Courier New&quot;,Courier,monospace\">   ┌─────────┐\n",
              "q: ┤ Rx(π/2) ├\n",
              "   └─────────┘</pre>"
            ],
            "text/plain": [
              "   ┌─────────┐\n",
              "q: ┤ Rx(π/2) ├\n",
              "   └─────────┘"
            ]
          },
          "execution_count": 36,
          "metadata": {},
          "output_type": "execute_result"
        }
      ],
      "source": [
        "circuit_drawer(Rx_qc)"
      ]
    },
    {
      "cell_type": "markdown",
      "metadata": {},
      "source": [
        "## Ry(θ)"
      ]
    },
    {
      "cell_type": "code",
      "execution_count": 37,
      "metadata": {
        "id": "HlG5TXRbWSRo"
      },
      "outputs": [
        {
          "name": "stdout",
          "output_type": "stream",
          "text": [
            "Statevector([1.+0.j, 0.+0.j],\n",
            "            dims=(2,))\n"
          ]
        }
      ],
      "source": [
        "q = QuantumRegister(1, name='q')\n",
        "Ry_qc = QuantumCircuit(q, name='qc')\n",
        "\n",
        "Ry_qc.id(q[0])\n",
        "get(Ry_qc)"
      ]
    },
    {
      "cell_type": "code",
      "execution_count": 38,
      "metadata": {},
      "outputs": [
        {
          "name": "stdout",
          "output_type": "stream",
          "text": [
            "Statevector([0.70710678+0.j, 0.70710678+0.j],\n",
            "            dims=(2,))\n"
          ]
        }
      ],
      "source": [
        "Ry_qc.ry(m.pi/2, q[0])\n",
        "get(Ry_qc)"
      ]
    },
    {
      "cell_type": "code",
      "execution_count": 39,
      "metadata": {},
      "outputs": [
        {
          "data": {
            "text/html": [
              "<pre style=\"word-wrap: normal;white-space: pre;background: #fff0;line-height: 1.1;font-family: &quot;Courier New&quot;,Courier,monospace\">   ┌───┐┌─────────┐\n",
              "q: ┤ I ├┤ Ry(π/2) ├\n",
              "   └───┘└─────────┘</pre>"
            ],
            "text/plain": [
              "   ┌───┐┌─────────┐\n",
              "q: ┤ I ├┤ Ry(π/2) ├\n",
              "   └───┘└─────────┘"
            ]
          },
          "execution_count": 39,
          "metadata": {},
          "output_type": "execute_result"
        }
      ],
      "source": [
        "circuit_drawer(Ry_qc)"
      ]
    },
    {
      "cell_type": "markdown",
      "metadata": {},
      "source": [
        "## Rz(θ)"
      ]
    },
    {
      "cell_type": "code",
      "execution_count": 40,
      "metadata": {},
      "outputs": [
        {
          "name": "stdout",
          "output_type": "stream",
          "text": [
            "Statevector([0.70710678+0.j, 0.70710678+0.j],\n",
            "            dims=(2,))\n"
          ]
        }
      ],
      "source": [
        "q = QuantumRegister(1, name='q')\n",
        "Rz_qc = QuantumCircuit(q, name='qc')\n",
        "\n",
        "Rz_qc.h(q[0])\n",
        "get(Rz_qc)"
      ]
    },
    {
      "cell_type": "code",
      "execution_count": 41,
      "metadata": {},
      "outputs": [
        {
          "name": "stdout",
          "output_type": "stream",
          "text": [
            "Statevector([0.5-0.5j, 0.5+0.5j],\n",
            "            dims=(2,))\n"
          ]
        }
      ],
      "source": [
        "Rz_qc.rz(m.pi/2, q[0])\n",
        "get(Rz_qc)"
      ]
    },
    {
      "cell_type": "code",
      "execution_count": 42,
      "metadata": {},
      "outputs": [
        {
          "data": {
            "text/html": [
              "<pre style=\"word-wrap: normal;white-space: pre;background: #fff0;line-height: 1.1;font-family: &quot;Courier New&quot;,Courier,monospace\">   ┌───┐┌─────────┐\n",
              "q: ┤ H ├┤ Rz(π/2) ├\n",
              "   └───┘└─────────┘</pre>"
            ],
            "text/plain": [
              "   ┌───┐┌─────────┐\n",
              "q: ┤ H ├┤ Rz(π/2) ├\n",
              "   └───┘└─────────┘"
            ]
          },
          "execution_count": 42,
          "metadata": {},
          "output_type": "execute_result"
        }
      ],
      "source": [
        "circuit_drawer(Rz_qc)"
      ]
    },
    {
      "cell_type": "markdown",
      "metadata": {},
      "source": [
        "# Two Qubit Control Gates\n",
        "## CNOT"
      ]
    },
    {
      "cell_type": "code",
      "execution_count": 44,
      "metadata": {},
      "outputs": [
        {
          "name": "stdout",
          "output_type": "stream",
          "text": [
            "Statevector([ 0.70710678+0.00000000e+00j, -0.70710678-8.65956056e-17j,\n",
            "              0.        +0.00000000e+00j,  0.        +0.00000000e+00j],\n",
            "            dims=(2, 2))\n"
          ]
        }
      ],
      "source": [
        "q = QuantumRegister(2, name=\"q\")\n",
        "Cx_qc = QuantumCircuit(q, name='qc')\n",
        "\n",
        "Cx_qc.h(q[0])\n",
        "Cx_qc.z(q[0])\n",
        "Cx_qc.id(q[1])\n",
        "\n",
        "get(Cx_qc)"
      ]
    },
    {
      "cell_type": "code",
      "execution_count": 45,
      "metadata": {},
      "outputs": [
        {
          "name": "stdout",
          "output_type": "stream",
          "text": [
            "Statevector([ 0.70710678+0.00000000e+00j,  0.        +0.00000000e+00j,\n",
            "              0.        +0.00000000e+00j, -0.70710678-8.65956056e-17j],\n",
            "            dims=(2, 2))\n"
          ]
        }
      ],
      "source": [
        "Cx_qc.cx(q[0], q[1])\n",
        "get(Cx_qc)"
      ]
    },
    {
      "cell_type": "code",
      "execution_count": 46,
      "metadata": {},
      "outputs": [
        {
          "data": {
            "text/html": [
              "<pre style=\"word-wrap: normal;white-space: pre;background: #fff0;line-height: 1.1;font-family: &quot;Courier New&quot;,Courier,monospace\">     ┌───┐┌───┐     \n",
              "q_0: ┤ H ├┤ Z ├──■──\n",
              "     ├───┤└───┘┌─┴─┐\n",
              "q_1: ┤ I ├─────┤ X ├\n",
              "     └───┘     └───┘</pre>"
            ],
            "text/plain": [
              "     ┌───┐┌───┐     \n",
              "q_0: ┤ H ├┤ Z ├──■──\n",
              "     ├───┤└───┘┌─┴─┐\n",
              "q_1: ┤ I ├─────┤ X ├\n",
              "     └───┘     └───┘"
            ]
          },
          "execution_count": 46,
          "metadata": {},
          "output_type": "execute_result"
        }
      ],
      "source": [
        "circuit_drawer(Cx_qc)"
      ]
    },
    {
      "cell_type": "markdown",
      "metadata": {},
      "source": [
        "## CZ"
      ]
    },
    {
      "cell_type": "code",
      "execution_count": 57,
      "metadata": {},
      "outputs": [
        {
          "name": "stdout",
          "output_type": "stream",
          "text": [
            "Statevector([0.        +0.j, 0.        +0.j, 0.70710678+0.j,\n",
            "             0.70710678+0.j],\n",
            "            dims=(2, 2))\n"
          ]
        }
      ],
      "source": [
        "q = QuantumRegister(2, name=\"q\")\n",
        "Cz_qc = QuantumCircuit(q, name='qc')\n",
        "\n",
        "Cz_qc.h(q[0])\n",
        "Cz_qc.x(q[1])\n",
        "get(Cz_qc) "
      ]
    },
    {
      "cell_type": "code",
      "execution_count": 58,
      "metadata": {},
      "outputs": [
        {
          "name": "stdout",
          "output_type": "stream",
          "text": [
            "Statevector([ 0.        +0.j,  0.        +0.j,  0.70710678+0.j,\n",
            "             -0.70710678+0.j],\n",
            "            dims=(2, 2))\n"
          ]
        }
      ],
      "source": [
        "Cz_qc.cz(q[0], q[1])\n",
        "get(Cz_qc)"
      ]
    },
    {
      "cell_type": "code",
      "execution_count": 59,
      "metadata": {},
      "outputs": [
        {
          "data": {
            "text/html": [
              "<pre style=\"word-wrap: normal;white-space: pre;background: #fff0;line-height: 1.1;font-family: &quot;Courier New&quot;,Courier,monospace\">     ┌───┐   \n",
              "q_0: ┤ H ├─■─\n",
              "     ├───┤ │ \n",
              "q_1: ┤ X ├─■─\n",
              "     └───┘   </pre>"
            ],
            "text/plain": [
              "     ┌───┐   \n",
              "q_0: ┤ H ├─■─\n",
              "     ├───┤ │ \n",
              "q_1: ┤ X ├─■─\n",
              "     └───┘   "
            ]
          },
          "execution_count": 59,
          "metadata": {},
          "output_type": "execute_result"
        }
      ],
      "source": [
        "circuit_drawer(Cz_qc)"
      ]
    },
    {
      "cell_type": "markdown",
      "metadata": {},
      "source": [
        "## Control Phase Gate - CU1\n",
        "CPHASE gate, uses a control qubit to apply a Rφ gate to a target qubit. The net effect is similar to that of the control-Z gate, only differing by the phase that gets multiplied to the state |11>"
      ]
    },
    {
      "cell_type": "code",
      "execution_count": 56,
      "metadata": {},
      "outputs": [
        {
          "name": "stdout",
          "output_type": "stream",
          "text": [
            "Statevector([0.        +0.j, 0.70710678+0.j, 0.        +0.j,\n",
            "             0.70710678+0.j],\n",
            "            dims=(2, 2))\n"
          ]
        }
      ],
      "source": [
        "q = QuantumRegister(2, name=\"q\")\n",
        "cu1_qc = QuantumCircuit(q, name='qc')\n",
        "\n",
        "cu1_qc.x(q[0])\n",
        "cu1_qc.h(q[1])\n",
        "cu1_qc.id(q[1])\n",
        "get(cu1_qc)"
      ]
    },
    {
      "cell_type": "code",
      "execution_count": 60,
      "metadata": {},
      "outputs": [
        {
          "name": "stdout",
          "output_type": "stream",
          "text": [
            "Statevector([0.00000000e+00+0.j        , 7.07106781e-01+0.j        ,\n",
            "             0.00000000e+00+0.j        , 4.32978028e-17+0.70710678j],\n",
            "            dims=(2, 2))\n"
          ]
        },
        {
          "name": "stderr",
          "output_type": "stream",
          "text": [
            "C:\\Users\\DELL\\AppData\\Local\\Temp\\ipykernel_1528\\2301042171.py:1: DeprecationWarning: The QuantumCircuit.cu1 method is deprecated as of 0.16.0. It will be removed no earlier than 3 months after the release date. You should use the QuantumCircuit.cp method instead, which acts identically.\n",
            "  cu1_qc.cu1(m.pi/2, q[0], q[1])\n"
          ]
        }
      ],
      "source": [
        "cu1_qc.cu1(m.pi/2, q[0], q[1])\n",
        "get(cu1_qc)"
      ]
    },
    {
      "cell_type": "code",
      "execution_count": 61,
      "metadata": {},
      "outputs": [
        {
          "data": {
            "text/html": [
              "<pre style=\"word-wrap: normal;white-space: pre;background: #fff0;line-height: 1.1;font-family: &quot;Courier New&quot;,Courier,monospace\">     ┌───┐               \n",
              "q_0: ┤ X ├──────■────────\n",
              "     ├───┤┌───┐ │U1(π/2) \n",
              "q_1: ┤ H ├┤ I ├─■────────\n",
              "     └───┘└───┘          </pre>"
            ],
            "text/plain": [
              "     ┌───┐               \n",
              "q_0: ┤ X ├──────■────────\n",
              "     ├───┤┌───┐ │U1(π/2) \n",
              "q_1: ┤ H ├┤ I ├─■────────\n",
              "     └───┘└───┘          "
            ]
          },
          "execution_count": 61,
          "metadata": {},
          "output_type": "execute_result"
        }
      ],
      "source": [
        "circuit_drawer(cu1_qc)"
      ]
    },
    {
      "cell_type": "code",
      "execution_count": null,
      "metadata": {},
      "outputs": [],
      "source": []
    }
  ],
  "metadata": {
    "colab": {
      "collapsed_sections": [],
      "name": "L1.ipynb",
      "provenance": []
    },
    "kernelspec": {
      "display_name": "Python 3",
      "name": "python3"
    },
    "language_info": {
      "codemirror_mode": {
        "name": "ipython",
        "version": 3
      },
      "file_extension": ".py",
      "mimetype": "text/x-python",
      "name": "python",
      "nbconvert_exporter": "python",
      "pygments_lexer": "ipython3",
      "version": "3.10.0"
    }
  },
  "nbformat": 4,
  "nbformat_minor": 0
}
